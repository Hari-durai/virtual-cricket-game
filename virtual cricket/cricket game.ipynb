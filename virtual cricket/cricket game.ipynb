{
 "cells": [
  {
   "cell_type": "code",
   "execution_count": 1,
   "id": "79f2a76d",
   "metadata": {},
   "outputs": [],
   "source": [
    "import cv2\n",
    "import mediapipe as mp\n",
    "import time \n",
    "import pyautogui"
   ]
  },
  {
   "cell_type": "code",
   "execution_count": null,
   "id": "843e211d",
   "metadata": {},
   "outputs": [
    {
     "name": "stderr",
     "output_type": "stream",
     "text": [
      "C:\\ProgramData\\Anaconda3\\lib\\site-packages\\google\\protobuf\\symbol_database.py:78: UserWarning: SymbolDatabase.GetPrototype() is deprecated. Please use message_factory.GetMessageClass() instead. SymbolDatabase.GetPrototype() will be removed soon.\n",
      "  warnings.warn('SymbolDatabase.GetPrototype() is deprecated. Please '\n"
     ]
    },
    {
     "name": "stdout",
     "output_type": "stream",
     "text": [
      "normal\n",
      "normal\n",
      "normal\n"
     ]
    }
   ],
   "source": [
    "time.sleep(2.0)\n",
    "\n",
    "mp_draw=mp.solutions.drawing_utils\n",
    "mp_pose=mp.solutions.pose\n",
    "\n",
    "pose=mp_pose.Pose()\n",
    "tipIds=[4,8,12,16,20]\n",
    "\n",
    "video=cv2.VideoCapture(0)\n",
    "\n",
    "\n",
    "while True:\n",
    "\n",
    "    ret,image=video.read()\n",
    "    \n",
    "    image=cv2.cvtColor(image, cv2.COLOR_BGR2RGB)\n",
    "    image.flags.writeable=False\n",
    "    results=pose.process(image)\n",
    "    image.flags.writeable=True\n",
    "    image=cv2.cvtColor(image, cv2.COLOR_RGB2BGR)\n",
    "    lmList=[]\n",
    "    if results.pose_landmarks:\n",
    "        mp_draw.draw_landmarks(image,results.pose_landmarks,mp_pose.POSE_CONNECTIONS)\n",
    "        for id, lm in enumerate(results.pose_landmarks.landmark):\n",
    "            h,w,c=image.shape\n",
    "            cx,cy=int(lm.x*w),int(lm.y*h)\n",
    "            cv2.circle(image,(cx,cy),5,(255,0,0),cv2.FILLED)\n",
    "           \n",
    "            lmList.append([id,cx,cy])\n",
    "    #print(lmList)\n",
    "    if lmList!=[]:\n",
    "        #straight \n",
    "        if lmList[0][2]>lmList[16][2]:\n",
    "            print(\"STRAIGHT\")\n",
    "            with pyautogui.hold('up'):\n",
    "                pyautogui.press(['s','s'])\n",
    "            \n",
    "            \n",
    "        elif lmList[24][2]>lmList[16][2] and abs(lmList[24][2]-lmList[16][2])>40 and lmList[24][1]>lmList[16][1]:\n",
    "            print(\"RIGHT\")\n",
    "            pyautogui.press(['right','right'])\n",
    "            pyautogui.press('s')\n",
    "        elif lmList[16][1]>lmList[24][1]:\n",
    "            print(\"LEFT\")\n",
    "            pyautogui.press(['left','left'])\n",
    "            pyautogui.press('s')\n",
    "        else:\n",
    "            print(\"normal\")\n",
    "    cv2.imshow(\"Frame\",image)\n",
    "    k=cv2.waitKey(1)\n",
    "    if k==ord('q'):\n",
    "        break\n",
    "video.release()\n",
    "cv2.destroyAllWindows()\n",
    "\n"
   ]
  },
  {
   "cell_type": "code",
   "execution_count": null,
   "id": "9cf488d2",
   "metadata": {},
   "outputs": [],
   "source": []
  }
 ],
 "metadata": {
  "kernelspec": {
   "display_name": "Python 3 (ipykernel)",
   "language": "python",
   "name": "python3"
  },
  "language_info": {
   "codemirror_mode": {
    "name": "ipython",
    "version": 3
   },
   "file_extension": ".py",
   "mimetype": "text/x-python",
   "name": "python",
   "nbconvert_exporter": "python",
   "pygments_lexer": "ipython3",
   "version": "3.9.12"
  }
 },
 "nbformat": 4,
 "nbformat_minor": 5
}
